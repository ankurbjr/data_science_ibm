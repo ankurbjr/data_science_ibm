{
 "cells": [
  {
   "cell_type": "markdown",
   "id": "f66c030d-0f60-43ee-9b02-0d9175c2a2df",
   "metadata": {},
   "source": [
    "# Data Science Tools and Ecosystem"
   ]
  },
  {
   "cell_type": "markdown",
   "id": "0a938390-2e25-4246-a544-4dba5f571b3f",
   "metadata": {},
   "source": [
    "In this notebook, data science Tools and Ecosystem are summarized."
   ]
  },
  {
   "cell_type": "markdown",
   "id": "2b1223af-fddc-4c60-abf4-8601cceaeaaa",
   "metadata": {},
   "source": [
    "Some of the key takeaways from the course\n",
    "\n",
    "**Objectives:**\n",
    "\n",
    "- Popular languages of data science\n",
    "- Popular libraries of data science\n",
    "- Some Arithmetic expression in python"
   ]
  },
  {
   "cell_type": "markdown",
   "id": "4df94597-ecd8-4cd6-ba6b-f11be287f341",
   "metadata": {},
   "source": [
    "Some of the popular languages that Data Scientists use are:\n",
    "\n",
    "1. Pyhton\n",
    "2. R \n",
    "3. C++"
   ]
  },
  {
   "cell_type": "markdown",
   "id": "00723ef7-cff3-4612-9f52-89a8e238ef85",
   "metadata": {},
   "source": [
    "Some of the commonly used libraries used by Data Scientist include:\n",
    "\n",
    "1. Numpy\n",
    "2. Matplotlib\n",
    "3. Pandas\n",
    "4. Scipy"
   ]
  },
  {
   "cell_type": "markdown",
   "id": "90a8f6eb-94e0-47a8-b6f1-a52470a3b2ad",
   "metadata": {
    "tags": []
   },
   "source": [
    "| Data Science Tools |\n",
    "| ------------------ |\n",
    "| Jupyter notebook |\n",
    "| Apache Hadoop |\n",
    "| Apache Atlas |"
   ]
  },
  {
   "cell_type": "markdown",
   "id": "9c985b4b-b4bb-468f-96f6-dfe8773cec3b",
   "metadata": {},
   "source": [
    " ### Below are a few examples of evaluating arithmetic expressions in Python "
   ]
  },
  {
   "cell_type": "code",
   "execution_count": 4,
   "id": "98a3c2d2-733a-4cd3-a42a-125c03bf2db4",
   "metadata": {
    "tags": []
   },
   "outputs": [
    {
     "data": {
      "text/plain": [
       "17"
      ]
     },
     "execution_count": 4,
     "metadata": {},
     "output_type": "execute_result"
    }
   ],
   "source": [
    "#Code cell to mutliply and add numbers\n",
    "(3*4)+5"
   ]
  },
  {
   "cell_type": "code",
   "execution_count": 8,
   "id": "ec8ee268-9b18-4a43-af40-f38c43565687",
   "metadata": {
    "tags": []
   },
   "outputs": [
    {
     "data": {
      "text/plain": [
       "3"
      ]
     },
     "execution_count": 8,
     "metadata": {},
     "output_type": "execute_result"
    }
   ],
   "source": [
    "#Convert 200 into hours\n",
    "#This will convert 200 mintues to hours by diving by 60.\n",
    "#mintues//60\n",
    "200//60"
   ]
  },
  {
   "cell_type": "markdown",
   "id": "8a8ecfc4-d584-4765-81cf-afae43099a0f",
   "metadata": {},
   "source": [
    "## Author\n",
    "Ankur Gupta"
   ]
  }
 ],
 "metadata": {
  "kernelspec": {
   "display_name": "Python",
   "language": "python",
   "name": "conda-env-python-py"
  },
  "language_info": {
   "codemirror_mode": {
    "name": "ipython",
    "version": 3
   },
   "file_extension": ".py",
   "mimetype": "text/x-python",
   "name": "python",
   "nbconvert_exporter": "python",
   "pygments_lexer": "ipython3",
   "version": "3.7.12"
  }
 },
 "nbformat": 4,
 "nbformat_minor": 5
}
